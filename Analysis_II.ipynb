{
 "cells": [
  {
   "attachments": {},
   "cell_type": "markdown",
   "metadata": {},
   "source": [
    "# Analysis II"
   ]
  },
  {
   "attachments": {},
   "cell_type": "markdown",
   "metadata": {},
   "source": [
    "Once we have the processed data we study cases to take a decision. First let's see how the volatility, risk and total return have been changed along on different periods. Let's choose period from 2010, 2020 to 2023, and the months has passed of this year."
   ]
  },
  {
   "attachments": {},
   "cell_type": "markdown",
   "metadata": {},
   "source": [
    "#### Graphical Report from 2010-2023 (yearly), 2020-2023 (monthly) and 2023 (weekly), respectively."
   ]
  },
  {
   "attachments": {},
   "cell_type": "markdown",
   "metadata": {},
   "source": [
    "<img src=\"./.src/vrt_2010.png\" alt=\"2010 inform\" width=\"400\" height=\"300\">\n",
    "<img src=\"./.src/vrt_2020.png\" alt=\"2020 inform\" width=\"400\" height=\"300\">\n",
    "<img src=\"./.src/vrt_2023.png\" alt=\"2023 inform\" width=\"800\" height=\"600\">\n"
   ]
  },
  {
   "attachments": {},
   "cell_type": "markdown",
   "metadata": {},
   "source": [
    "Well in the first two graphics we can appreciate Energy sector has great returns and volatility, which means if our cliente thinks in long or middle-term investments it coulb be a good idea because due to great volatility and returns the dividends they could get it would benefit them. However, if they think in short-term that could not be the right. Since the last figure shows us that this sector still registers a great volatility comparated to other sector, but the returns right now are not good, so the client would eventually lose their capital.\n",
    "\n",
    "Then if our cliente decises to invest in long middle-term we shall consider the sub-industries and what is the principal activities these realises.\n",
    "\n",
    "Let's see the industry's performing throughout the same periods."
   ]
  },
  {
   "attachments": {},
   "cell_type": "markdown",
   "metadata": {},
   "source": [
    "<img src=\"./.src/sub_2010.png\" alt=\"2010 inform\" width=\"400\" height=\"300\">\n",
    "<img src=\"./.src/sub_2020.png\" alt=\"2020 inform\" width=\"400\" height=\"300\">\n",
    "<img src=\"./.src/sub_2023.png\" alt=\"2023 inform\" width=\"800\" height=\"600\">"
   ]
  },
  {
   "attachments": {},
   "cell_type": "markdown",
   "metadata": {},
   "source": [
    "We can appreacite intersting patterns, first all sub industries have had same volatility, second right now the sub industry responsible for Oil-Gas Exploration and production goes down, maybe the sector for renewable energies has growth to replace the industries basen on fuel.\n",
    "\n",
    "Furthermore, the best subindustries to invest on it would be Oil-Gas Refining and Oil-Gas Equipment and service, which have great returns and volatility, that leads to better gains.\n",
    "\n",
    "In order to the previous analysis, let's see would be the better companies to invest on, within the sub industries **Oil-Gas Refining and Marketing** and **il-Gas Equipment and Service**."
   ]
  },
  {
   "attachments": {},
   "cell_type": "markdown",
   "metadata": {},
   "source": [
    "### Stock Analysis"
   ]
  },
  {
   "cell_type": "code",
   "execution_count": 1,
   "metadata": {},
   "outputs": [
    {
     "name": "stdout",
     "output_type": "stream",
     "text": [
      "[*********************100%***********************]  1 of 1 completed\n"
     ]
    },
    {
     "data": {
      "text/html": [
       "<div>\n",
       "<style scoped>\n",
       "    .dataframe tbody tr th:only-of-type {\n",
       "        vertical-align: middle;\n",
       "    }\n",
       "\n",
       "    .dataframe tbody tr th {\n",
       "        vertical-align: top;\n",
       "    }\n",
       "\n",
       "    .dataframe thead th {\n",
       "        text-align: right;\n",
       "    }\n",
       "</style>\n",
       "<table border=\"1\" class=\"dataframe\">\n",
       "  <thead>\n",
       "    <tr style=\"text-align: right;\">\n",
       "      <th></th>\n",
       "      <th>Open</th>\n",
       "      <th>High</th>\n",
       "      <th>Low</th>\n",
       "      <th>Close</th>\n",
       "      <th>Adj Close</th>\n",
       "      <th>Volume</th>\n",
       "    </tr>\n",
       "    <tr>\n",
       "      <th>Date</th>\n",
       "      <th></th>\n",
       "      <th></th>\n",
       "      <th></th>\n",
       "      <th></th>\n",
       "      <th></th>\n",
       "      <th></th>\n",
       "    </tr>\n",
       "  </thead>\n",
       "  <tbody>\n",
       "    <tr>\n",
       "      <th>2020-01-02</th>\n",
       "      <td>74.059998</td>\n",
       "      <td>75.150002</td>\n",
       "      <td>73.797501</td>\n",
       "      <td>75.087502</td>\n",
       "      <td>73.449394</td>\n",
       "      <td>135480400</td>\n",
       "    </tr>\n",
       "    <tr>\n",
       "      <th>2020-01-03</th>\n",
       "      <td>74.287498</td>\n",
       "      <td>75.144997</td>\n",
       "      <td>74.125000</td>\n",
       "      <td>74.357498</td>\n",
       "      <td>72.735321</td>\n",
       "      <td>146322800</td>\n",
       "    </tr>\n",
       "    <tr>\n",
       "      <th>2020-01-06</th>\n",
       "      <td>73.447502</td>\n",
       "      <td>74.989998</td>\n",
       "      <td>73.187500</td>\n",
       "      <td>74.949997</td>\n",
       "      <td>73.314903</td>\n",
       "      <td>118387200</td>\n",
       "    </tr>\n",
       "    <tr>\n",
       "      <th>2020-01-07</th>\n",
       "      <td>74.959999</td>\n",
       "      <td>75.224998</td>\n",
       "      <td>74.370003</td>\n",
       "      <td>74.597504</td>\n",
       "      <td>72.970093</td>\n",
       "      <td>108872000</td>\n",
       "    </tr>\n",
       "    <tr>\n",
       "      <th>2020-01-08</th>\n",
       "      <td>74.290001</td>\n",
       "      <td>76.110001</td>\n",
       "      <td>74.290001</td>\n",
       "      <td>75.797501</td>\n",
       "      <td>74.143906</td>\n",
       "      <td>132079200</td>\n",
       "    </tr>\n",
       "  </tbody>\n",
       "</table>\n",
       "</div>"
      ],
      "text/plain": [
       "                 Open       High        Low      Close  Adj Close     Volume\n",
       "Date                                                                        \n",
       "2020-01-02  74.059998  75.150002  73.797501  75.087502  73.449394  135480400\n",
       "2020-01-03  74.287498  75.144997  74.125000  74.357498  72.735321  146322800\n",
       "2020-01-06  73.447502  74.989998  73.187500  74.949997  73.314903  118387200\n",
       "2020-01-07  74.959999  75.224998  74.370003  74.597504  72.970093  108872000\n",
       "2020-01-08  74.290001  76.110001  74.290001  75.797501  74.143906  132079200"
      ]
     },
     "execution_count": 1,
     "metadata": {},
     "output_type": "execute_result"
    }
   ],
   "source": [
    "import yfinance as yf\n",
    "\n",
    "# Download financial data for Apple Inc.\n",
    "ticker = 'AAPL'\n",
    "data = yf.download(ticker, start='2020-01-01', end='2021-12-31')\n",
    "data.head()"
   ]
  }
 ],
 "metadata": {
  "kernelspec": {
   "display_name": "sma",
   "language": "python",
   "name": "python3"
  },
  "language_info": {
   "codemirror_mode": {
    "name": "ipython",
    "version": 3
   },
   "file_extension": ".py",
   "mimetype": "text/x-python",
   "name": "python",
   "nbconvert_exporter": "python",
   "pygments_lexer": "ipython3",
   "version": "3.11.2"
  },
  "orig_nbformat": 4
 },
 "nbformat": 4,
 "nbformat_minor": 2
}
